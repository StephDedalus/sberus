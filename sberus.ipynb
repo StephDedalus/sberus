{
 "cells": [
  {
   "cell_type": "code",
   "execution_count": 1,
   "id": "92b2da57-9912-456b-873d-44f28385ece0",
   "metadata": {},
   "outputs": [],
   "source": [
    "#import libraries\n",
    "from datetime import datetime, timedelta,date\n",
    "import pandas as pd\n",
    "%matplotlib inline\n",
    "from sklearn.metrics import classification_report,confusion_matrix\n",
    "import matplotlib.pyplot as plt\n",
    "import numpy as np\n",
    "import seaborn as sns\n",
    "from __future__ import division\n",
    "from sklearn.cluster import KMeans\n",
    "from collections import Counter \n",
    "\n",
    "#do not show warnings\n",
    "import warnings\n",
    "warnings.filterwarnings(\"ignore\")\n",
    "\n",
    "\n",
    "\n",
    "from sklearn.metrics import mean_absolute_error\n",
    "from sklearn.model_selection import train_test_split\n",
    "from sklearn.tree import DecisionTreeRegressor\n",
    "\n",
    "\n"
   ]
  },
  {
   "cell_type": "code",
   "execution_count": 9,
   "id": "8255585e-e162-4606-ac83-cda527aa44ea",
   "metadata": {},
   "outputs": [],
   "source": [
    "sample = pd.read_csv(\"sample_submission.csv\")\n"
   ]
  },
  {
   "cell_type": "code",
   "execution_count": 10,
   "id": "c7893b66-fbbe-402b-8fa7-abf5d004803d",
   "metadata": {},
   "outputs": [
    {
     "data": {
      "text/html": [
       "<div>\n",
       "<style scoped>\n",
       "    .dataframe tbody tr th:only-of-type {\n",
       "        vertical-align: middle;\n",
       "    }\n",
       "\n",
       "    .dataframe tbody tr th {\n",
       "        vertical-align: top;\n",
       "    }\n",
       "\n",
       "    .dataframe thead th {\n",
       "        text-align: right;\n",
       "    }\n",
       "</style>\n",
       "<table border=\"1\" class=\"dataframe\">\n",
       "  <thead>\n",
       "    <tr style=\"text-align: right;\">\n",
       "      <th></th>\n",
       "      <th>id</th>\n",
       "      <th>target</th>\n",
       "    </tr>\n",
       "  </thead>\n",
       "  <tbody>\n",
       "    <tr>\n",
       "      <th>0</th>\n",
       "      <td>0;133</td>\n",
       "      <td>0</td>\n",
       "    </tr>\n",
       "    <tr>\n",
       "      <th>1</th>\n",
       "      <td>0;5</td>\n",
       "      <td>1</td>\n",
       "    </tr>\n",
       "    <tr>\n",
       "      <th>2</th>\n",
       "      <td>0;10</td>\n",
       "      <td>0</td>\n",
       "    </tr>\n",
       "    <tr>\n",
       "      <th>3</th>\n",
       "      <td>0;396</td>\n",
       "      <td>1</td>\n",
       "    </tr>\n",
       "    <tr>\n",
       "      <th>4</th>\n",
       "      <td>0;14</td>\n",
       "      <td>0</td>\n",
       "    </tr>\n",
       "    <tr>\n",
       "      <th>...</th>\n",
       "      <td>...</td>\n",
       "      <td>...</td>\n",
       "    </tr>\n",
       "    <tr>\n",
       "      <th>790444</th>\n",
       "      <td>19998;26</td>\n",
       "      <td>0</td>\n",
       "    </tr>\n",
       "    <tr>\n",
       "      <th>790445</th>\n",
       "      <td>19998;31</td>\n",
       "      <td>0</td>\n",
       "    </tr>\n",
       "    <tr>\n",
       "      <th>790446</th>\n",
       "      <td>19998;29</td>\n",
       "      <td>1</td>\n",
       "    </tr>\n",
       "    <tr>\n",
       "      <th>790447</th>\n",
       "      <td>19998;798</td>\n",
       "      <td>1</td>\n",
       "    </tr>\n",
       "    <tr>\n",
       "      <th>790448</th>\n",
       "      <td>19998;415</td>\n",
       "      <td>1</td>\n",
       "    </tr>\n",
       "  </tbody>\n",
       "</table>\n",
       "<p>790449 rows × 2 columns</p>\n",
       "</div>"
      ],
      "text/plain": [
       "               id  target\n",
       "0           0;133       0\n",
       "1             0;5       1\n",
       "2            0;10       0\n",
       "3           0;396       1\n",
       "4            0;14       0\n",
       "...           ...     ...\n",
       "790444   19998;26       0\n",
       "790445   19998;31       0\n",
       "790446   19998;29       1\n",
       "790447  19998;798       1\n",
       "790448  19998;415       1\n",
       "\n",
       "[790449 rows x 2 columns]"
      ]
     },
     "execution_count": 10,
     "metadata": {},
     "output_type": "execute_result"
    }
   ],
   "source": [
    "sample"
   ]
  },
  {
   "cell_type": "code",
   "execution_count": 11,
   "id": "073df5b5-b000-481d-9ebb-e3ec2f6fff1f",
   "metadata": {},
   "outputs": [],
   "source": [
    "train = pd.read_csv(\"train.csv\")"
   ]
  },
  {
   "cell_type": "code",
   "execution_count": 12,
   "id": "c45cf2ca-0656-4a98-a0c1-f4bcf994adec",
   "metadata": {},
   "outputs": [
    {
     "data": {
      "text/html": [
       "<div>\n",
       "<style scoped>\n",
       "    .dataframe tbody tr th:only-of-type {\n",
       "        vertical-align: middle;\n",
       "    }\n",
       "\n",
       "    .dataframe tbody tr th {\n",
       "        vertical-align: top;\n",
       "    }\n",
       "\n",
       "    .dataframe thead th {\n",
       "        text-align: right;\n",
       "    }\n",
       "</style>\n",
       "<table border=\"1\" class=\"dataframe\">\n",
       "  <thead>\n",
       "    <tr style=\"text-align: right;\">\n",
       "      <th></th>\n",
       "      <th>user_id</th>\n",
       "      <th>order_completed_at</th>\n",
       "      <th>cart</th>\n",
       "    </tr>\n",
       "  </thead>\n",
       "  <tbody>\n",
       "    <tr>\n",
       "      <th>0</th>\n",
       "      <td>2</td>\n",
       "      <td>2015-03-22 09:25:46</td>\n",
       "      <td>399</td>\n",
       "    </tr>\n",
       "    <tr>\n",
       "      <th>1</th>\n",
       "      <td>2</td>\n",
       "      <td>2015-03-22 09:25:46</td>\n",
       "      <td>14</td>\n",
       "    </tr>\n",
       "    <tr>\n",
       "      <th>2</th>\n",
       "      <td>2</td>\n",
       "      <td>2015-03-22 09:25:46</td>\n",
       "      <td>198</td>\n",
       "    </tr>\n",
       "    <tr>\n",
       "      <th>3</th>\n",
       "      <td>2</td>\n",
       "      <td>2015-03-22 09:25:46</td>\n",
       "      <td>88</td>\n",
       "    </tr>\n",
       "    <tr>\n",
       "      <th>4</th>\n",
       "      <td>2</td>\n",
       "      <td>2015-03-22 09:25:46</td>\n",
       "      <td>157</td>\n",
       "    </tr>\n",
       "    <tr>\n",
       "      <th>...</th>\n",
       "      <td>...</td>\n",
       "      <td>...</td>\n",
       "      <td>...</td>\n",
       "    </tr>\n",
       "    <tr>\n",
       "      <th>3123059</th>\n",
       "      <td>12702</td>\n",
       "      <td>2020-09-03 23:45:45</td>\n",
       "      <td>441</td>\n",
       "    </tr>\n",
       "    <tr>\n",
       "      <th>3123060</th>\n",
       "      <td>12702</td>\n",
       "      <td>2020-09-03 23:45:45</td>\n",
       "      <td>92</td>\n",
       "    </tr>\n",
       "    <tr>\n",
       "      <th>3123061</th>\n",
       "      <td>12702</td>\n",
       "      <td>2020-09-03 23:45:45</td>\n",
       "      <td>431</td>\n",
       "    </tr>\n",
       "    <tr>\n",
       "      <th>3123062</th>\n",
       "      <td>12702</td>\n",
       "      <td>2020-09-03 23:45:45</td>\n",
       "      <td>24</td>\n",
       "    </tr>\n",
       "    <tr>\n",
       "      <th>3123063</th>\n",
       "      <td>12702</td>\n",
       "      <td>2020-09-03 23:45:45</td>\n",
       "      <td>430</td>\n",
       "    </tr>\n",
       "  </tbody>\n",
       "</table>\n",
       "<p>3123064 rows × 3 columns</p>\n",
       "</div>"
      ],
      "text/plain": [
       "         user_id   order_completed_at  cart\n",
       "0              2  2015-03-22 09:25:46   399\n",
       "1              2  2015-03-22 09:25:46    14\n",
       "2              2  2015-03-22 09:25:46   198\n",
       "3              2  2015-03-22 09:25:46    88\n",
       "4              2  2015-03-22 09:25:46   157\n",
       "...          ...                  ...   ...\n",
       "3123059    12702  2020-09-03 23:45:45   441\n",
       "3123060    12702  2020-09-03 23:45:45    92\n",
       "3123061    12702  2020-09-03 23:45:45   431\n",
       "3123062    12702  2020-09-03 23:45:45    24\n",
       "3123063    12702  2020-09-03 23:45:45   430\n",
       "\n",
       "[3123064 rows x 3 columns]"
      ]
     },
     "execution_count": 12,
     "metadata": {},
     "output_type": "execute_result"
    }
   ],
   "source": [
    "train"
   ]
  },
  {
   "cell_type": "code",
   "execution_count": 13,
   "id": "b57972c2-af65-4da1-9177-91b066afeebd",
   "metadata": {
    "tags": []
   },
   "outputs": [],
   "source": [
    "train.describe()"
   ]
  },
  {
   "cell_type": "code",
   "execution_count": 14,
   "id": "7cf84d7c-eb60-4c60-a62b-1eade67d94db",
   "metadata": {},
   "outputs": [],
   "source": [
    "train.dtypes"
   ]
  },
  {
   "cell_type": "code",
   "execution_count": 15,
   "id": "aa1fed34-16d9-4f0f-b15e-436553e8dd47",
   "metadata": {},
   "outputs": [],
   "source": [
    "missing_values_count = train.isnull().sum()\n",
    "missing_values_count"
   ]
  },
  {
   "cell_type": "code",
   "execution_count": 16,
   "id": "bfefc034-0ac0-4355-9624-3bbad4c88e15",
   "metadata": {},
   "outputs": [],
   "source": [
    "total_cells = np.product(train.shape)\n",
    "total_missing = missing_values_count.sum()\n",
    "\n",
    "percent_missing = (total_missing/total_cells) * 100\n",
    "print(percent_missing)"
   ]
  },
  {
   "cell_type": "code",
   "execution_count": 17,
   "id": "a3d48f6d-d6c6-499d-b769-5f09a89cc438",
   "metadata": {},
   "outputs": [],
   "source": [
    "print(train.user_id.unique())"
   ]
  },
  {
   "cell_type": "code",
   "execution_count": 18,
   "id": "ff2a2ed9-947b-4fba-afe2-bc6e90944e84",
   "metadata": {},
   "outputs": [],
   "source": [
    "train.user_id.value_counts().head()"
   ]
  },
  {
   "cell_type": "code",
   "execution_count": 19,
   "id": "84131d33-10fa-442c-8fc1-4c49becc6c1f",
   "metadata": {},
   "outputs": [],
   "source": [
    "print(train['order_completed_at'].head())"
   ]
  },
  {
   "cell_type": "code",
   "execution_count": 20,
   "id": "31a9c08d-8bfa-4817-b619-9dbc86f0d866",
   "metadata": {},
   "outputs": [],
   "source": [
    "train['order_completed_at_parsed'] = pd.to_datetime(train['order_completed_at'], infer_datetime_format=True)"
   ]
  },
  {
   "cell_type": "code",
   "execution_count": 21,
   "id": "f8439f2a-59c6-47bb-a3ad-51e0e360556b",
   "metadata": {},
   "outputs": [],
   "source": [
    "train['order_completed_at_parsed'].head()"
   ]
  },
  {
   "cell_type": "code",
   "execution_count": 22,
   "id": "83914c94-ddcd-46ea-945e-67cddf032b43",
   "metadata": {},
   "outputs": [],
   "source": [
    "train = train.drop('order_completed_at', 1)"
   ]
  },
  {
   "cell_type": "code",
   "execution_count": 23,
   "id": "134c5a19-2a6c-4116-bc55-509fd8927626",
   "metadata": {},
   "outputs": [],
   "source": [
    "train = train.drop('order_completed_at_parsed', 1)"
   ]
  },
  {
   "cell_type": "code",
   "execution_count": 24,
   "id": "d58e868e-6294-410c-afdb-da142406e0dd",
   "metadata": {},
   "outputs": [],
   "source": [
    "d = train['cart']"
   ]
  },
  {
   "cell_type": "code",
   "execution_count": 17,
   "id": "ecd3abdf-2a3d-4c52-8145-ca54dfc1019a",
   "metadata": {},
   "outputs": [
    {
     "ename": "NameError",
     "evalue": "name 'train' is not defined",
     "output_type": "error",
     "traceback": [
      "\u001b[1;31m---------------------------------------------------------------------------\u001b[0m",
      "\u001b[1;31mNameError\u001b[0m                                 Traceback (most recent call last)",
      "\u001b[1;32m~\\AppData\\Local\\Temp/ipykernel_6028/716459692.py\u001b[0m in \u001b[0;36m<module>\u001b[1;34m\u001b[0m\n\u001b[1;32m----> 1\u001b[1;33m \u001b[0mtrain\u001b[0m\u001b[1;33m[\u001b[0m\u001b[1;34m'target'\u001b[0m\u001b[1;33m]\u001b[0m \u001b[1;33m=\u001b[0m \u001b[0mtrain\u001b[0m\u001b[1;33m.\u001b[0m\u001b[0mduplicated\u001b[0m\u001b[1;33m(\u001b[0m\u001b[0mkeep\u001b[0m \u001b[1;33m=\u001b[0m \u001b[1;32mFalse\u001b[0m\u001b[1;33m)\u001b[0m\u001b[1;33m\u001b[0m\u001b[1;33m\u001b[0m\u001b[0m\n\u001b[0m\u001b[0;32m      2\u001b[0m \u001b[0mtrain\u001b[0m\u001b[1;33m[\u001b[0m\u001b[1;34m'target'\u001b[0m\u001b[1;33m]\u001b[0m \u001b[1;33m=\u001b[0m \u001b[0mtrain\u001b[0m\u001b[1;33m[\u001b[0m\u001b[1;34m\"target\"\u001b[0m\u001b[1;33m]\u001b[0m\u001b[1;33m.\u001b[0m\u001b[0mastype\u001b[0m\u001b[1;33m(\u001b[0m\u001b[0mint\u001b[0m\u001b[1;33m)\u001b[0m\u001b[1;33m\u001b[0m\u001b[1;33m\u001b[0m\u001b[0m\n\u001b[0;32m      3\u001b[0m \u001b[0mtrain\u001b[0m\u001b[1;33m\u001b[0m\u001b[1;33m\u001b[0m\u001b[0m\n",
      "\u001b[1;31mNameError\u001b[0m: name 'train' is not defined"
     ]
    }
   ],
   "source": [
    "train['target'] = train.duplicated(keep = False)\n",
    "train['target'] = train[\"target\"].astype(int)\n",
    "train"
   ]
  },
  {
   "cell_type": "code",
   "execution_count": 16,
   "id": "245cbcc8-6c34-4749-9c6e-171df00b076f",
   "metadata": {},
   "outputs": [
    {
     "ename": "NameError",
     "evalue": "name 'train' is not defined",
     "output_type": "error",
     "traceback": [
      "\u001b[1;31m---------------------------------------------------------------------------\u001b[0m",
      "\u001b[1;31mNameError\u001b[0m                                 Traceback (most recent call last)",
      "\u001b[1;32m~\\AppData\\Local\\Temp/ipykernel_6028/1878563949.py\u001b[0m in \u001b[0;36m<module>\u001b[1;34m\u001b[0m\n\u001b[1;32m----> 1\u001b[1;33m \u001b[0mtrain\u001b[0m \u001b[1;33m=\u001b[0m \u001b[0mtrain\u001b[0m\u001b[1;33m.\u001b[0m\u001b[0mloc\u001b[0m\u001b[1;33m[\u001b[0m\u001b[0mtrain\u001b[0m\u001b[1;33m.\u001b[0m\u001b[0mduplicated\u001b[0m\u001b[1;33m(\u001b[0m\u001b[0msubset\u001b[0m\u001b[1;33m=\u001b[0m\u001b[1;33m[\u001b[0m\u001b[1;34m'target'\u001b[0m\u001b[1;33m]\u001b[0m\u001b[1;33m,\u001b[0m \u001b[0mkeep\u001b[0m\u001b[1;33m=\u001b[0m\u001b[1;32mFalse\u001b[0m\u001b[1;33m)\u001b[0m\u001b[1;33m]\u001b[0m\u001b[1;33m\u001b[0m\u001b[1;33m\u001b[0m\u001b[0m\n\u001b[0m",
      "\u001b[1;31mNameError\u001b[0m: name 'train' is not defined"
     ]
    }
   ],
   "source": [
    "train = train.loc[train.duplicated(subset=['target'], keep=False)]"
   ]
  },
  {
   "cell_type": "code",
   "execution_count": 26,
   "id": "9f9f92e9-811e-4ed2-ab3c-62a05119ae8d",
   "metadata": {},
   "outputs": [],
   "source": [
    "train.to_csv('train_n.csv')"
   ]
  },
  {
   "cell_type": "code",
   "execution_count": 27,
   "id": "75038a6b-0688-4ca0-a339-0f4042ddc346",
   "metadata": {},
   "outputs": [
    {
     "data": {
      "text/plain": [
       "user_id    int64\n",
       "cart       int64\n",
       "target     int32\n",
       "dtype: object"
      ]
     },
     "execution_count": 27,
     "metadata": {},
     "output_type": "execute_result"
    }
   ],
   "source": [
    "train.dtypes"
   ]
  },
  {
   "cell_type": "code",
   "execution_count": 28,
   "id": "8895f8ab-56c7-416e-8c71-e7844f6725ca",
   "metadata": {},
   "outputs": [],
   "source": [
    "train['id'] = train['user_id'].astype(str) +\";\"+ train['cart'].astype(str)"
   ]
  },
  {
   "cell_type": "code",
   "execution_count": 29,
   "id": "49745f10-319d-45e5-88a3-cdc9fac58723",
   "metadata": {
    "tags": []
   },
   "outputs": [],
   "source": [
    "train = train.drop('user_id', 1)"
   ]
  },
  {
   "cell_type": "code",
   "execution_count": 30,
   "id": "b63e17c8-464a-4db5-8213-5a8cb6f2d2c2",
   "metadata": {},
   "outputs": [
    {
     "data": {
      "text/html": [
       "<div>\n",
       "<style scoped>\n",
       "    .dataframe tbody tr th:only-of-type {\n",
       "        vertical-align: middle;\n",
       "    }\n",
       "\n",
       "    .dataframe tbody tr th {\n",
       "        vertical-align: top;\n",
       "    }\n",
       "\n",
       "    .dataframe thead th {\n",
       "        text-align: right;\n",
       "    }\n",
       "</style>\n",
       "<table border=\"1\" class=\"dataframe\">\n",
       "  <thead>\n",
       "    <tr style=\"text-align: right;\">\n",
       "      <th></th>\n",
       "      <th>cart</th>\n",
       "      <th>target</th>\n",
       "      <th>id</th>\n",
       "    </tr>\n",
       "  </thead>\n",
       "  <tbody>\n",
       "    <tr>\n",
       "      <th>0</th>\n",
       "      <td>399</td>\n",
       "      <td>0</td>\n",
       "      <td>2;399</td>\n",
       "    </tr>\n",
       "    <tr>\n",
       "      <th>1</th>\n",
       "      <td>14</td>\n",
       "      <td>0</td>\n",
       "      <td>2;14</td>\n",
       "    </tr>\n",
       "    <tr>\n",
       "      <th>2</th>\n",
       "      <td>198</td>\n",
       "      <td>1</td>\n",
       "      <td>2;198</td>\n",
       "    </tr>\n",
       "    <tr>\n",
       "      <th>3</th>\n",
       "      <td>88</td>\n",
       "      <td>1</td>\n",
       "      <td>2;88</td>\n",
       "    </tr>\n",
       "    <tr>\n",
       "      <th>4</th>\n",
       "      <td>157</td>\n",
       "      <td>1</td>\n",
       "      <td>2;157</td>\n",
       "    </tr>\n",
       "    <tr>\n",
       "      <th>...</th>\n",
       "      <td>...</td>\n",
       "      <td>...</td>\n",
       "      <td>...</td>\n",
       "    </tr>\n",
       "    <tr>\n",
       "      <th>3123059</th>\n",
       "      <td>441</td>\n",
       "      <td>1</td>\n",
       "      <td>12702;441</td>\n",
       "    </tr>\n",
       "    <tr>\n",
       "      <th>3123060</th>\n",
       "      <td>92</td>\n",
       "      <td>0</td>\n",
       "      <td>12702;92</td>\n",
       "    </tr>\n",
       "    <tr>\n",
       "      <th>3123061</th>\n",
       "      <td>431</td>\n",
       "      <td>1</td>\n",
       "      <td>12702;431</td>\n",
       "    </tr>\n",
       "    <tr>\n",
       "      <th>3123062</th>\n",
       "      <td>24</td>\n",
       "      <td>1</td>\n",
       "      <td>12702;24</td>\n",
       "    </tr>\n",
       "    <tr>\n",
       "      <th>3123063</th>\n",
       "      <td>430</td>\n",
       "      <td>0</td>\n",
       "      <td>12702;430</td>\n",
       "    </tr>\n",
       "  </tbody>\n",
       "</table>\n",
       "<p>3123064 rows × 3 columns</p>\n",
       "</div>"
      ],
      "text/plain": [
       "         cart  target         id\n",
       "0         399       0      2;399\n",
       "1          14       0       2;14\n",
       "2         198       1      2;198\n",
       "3          88       1       2;88\n",
       "4         157       1      2;157\n",
       "...       ...     ...        ...\n",
       "3123059   441       1  12702;441\n",
       "3123060    92       0   12702;92\n",
       "3123061   431       1  12702;431\n",
       "3123062    24       1   12702;24\n",
       "3123063   430       0  12702;430\n",
       "\n",
       "[3123064 rows x 3 columns]"
      ]
     },
     "execution_count": 30,
     "metadata": {},
     "output_type": "execute_result"
    }
   ],
   "source": [
    "train"
   ]
  },
  {
   "cell_type": "code",
   "execution_count": 31,
   "id": "8ade342a-ae1c-4fc5-bebc-09108ae383e1",
   "metadata": {},
   "outputs": [],
   "source": [
    "train = train.drop('cart', 1)"
   ]
  },
  {
   "cell_type": "code",
   "execution_count": 32,
   "id": "c0a80bb1-ab0b-47ef-9b9d-c3b93fdf417d",
   "metadata": {},
   "outputs": [
    {
     "data": {
      "text/html": [
       "<div>\n",
       "<style scoped>\n",
       "    .dataframe tbody tr th:only-of-type {\n",
       "        vertical-align: middle;\n",
       "    }\n",
       "\n",
       "    .dataframe tbody tr th {\n",
       "        vertical-align: top;\n",
       "    }\n",
       "\n",
       "    .dataframe thead th {\n",
       "        text-align: right;\n",
       "    }\n",
       "</style>\n",
       "<table border=\"1\" class=\"dataframe\">\n",
       "  <thead>\n",
       "    <tr style=\"text-align: right;\">\n",
       "      <th></th>\n",
       "      <th>target</th>\n",
       "      <th>id</th>\n",
       "    </tr>\n",
       "  </thead>\n",
       "  <tbody>\n",
       "    <tr>\n",
       "      <th>0</th>\n",
       "      <td>0</td>\n",
       "      <td>2;399</td>\n",
       "    </tr>\n",
       "    <tr>\n",
       "      <th>1</th>\n",
       "      <td>0</td>\n",
       "      <td>2;14</td>\n",
       "    </tr>\n",
       "    <tr>\n",
       "      <th>2</th>\n",
       "      <td>1</td>\n",
       "      <td>2;198</td>\n",
       "    </tr>\n",
       "    <tr>\n",
       "      <th>3</th>\n",
       "      <td>1</td>\n",
       "      <td>2;88</td>\n",
       "    </tr>\n",
       "    <tr>\n",
       "      <th>4</th>\n",
       "      <td>1</td>\n",
       "      <td>2;157</td>\n",
       "    </tr>\n",
       "    <tr>\n",
       "      <th>...</th>\n",
       "      <td>...</td>\n",
       "      <td>...</td>\n",
       "    </tr>\n",
       "    <tr>\n",
       "      <th>3123059</th>\n",
       "      <td>1</td>\n",
       "      <td>12702;441</td>\n",
       "    </tr>\n",
       "    <tr>\n",
       "      <th>3123060</th>\n",
       "      <td>0</td>\n",
       "      <td>12702;92</td>\n",
       "    </tr>\n",
       "    <tr>\n",
       "      <th>3123061</th>\n",
       "      <td>1</td>\n",
       "      <td>12702;431</td>\n",
       "    </tr>\n",
       "    <tr>\n",
       "      <th>3123062</th>\n",
       "      <td>1</td>\n",
       "      <td>12702;24</td>\n",
       "    </tr>\n",
       "    <tr>\n",
       "      <th>3123063</th>\n",
       "      <td>0</td>\n",
       "      <td>12702;430</td>\n",
       "    </tr>\n",
       "  </tbody>\n",
       "</table>\n",
       "<p>3123064 rows × 2 columns</p>\n",
       "</div>"
      ],
      "text/plain": [
       "         target         id\n",
       "0             0      2;399\n",
       "1             0       2;14\n",
       "2             1      2;198\n",
       "3             1       2;88\n",
       "4             1      2;157\n",
       "...         ...        ...\n",
       "3123059       1  12702;441\n",
       "3123060       0   12702;92\n",
       "3123061       1  12702;431\n",
       "3123062       1   12702;24\n",
       "3123063       0  12702;430\n",
       "\n",
       "[3123064 rows x 2 columns]"
      ]
     },
     "execution_count": 32,
     "metadata": {},
     "output_type": "execute_result"
    }
   ],
   "source": [
    "train"
   ]
  },
  {
   "cell_type": "code",
   "execution_count": 33,
   "id": "380a2f73-98aa-4497-9e48-74b4fce17dbb",
   "metadata": {},
   "outputs": [],
   "source": [
    "train_new = train.reindex(columns=['id','target'])"
   ]
  },
  {
   "cell_type": "code",
   "execution_count": 4,
   "id": "9b62769d-3220-4e89-a6f8-4526b696b603",
   "metadata": {},
   "outputs": [],
   "source": [
    "#train_new.to_csv('train_new.csv')"
   ]
  },
  {
   "cell_type": "code",
   "execution_count": 2,
   "id": "ffe2911d-ee73-482a-bc38-d8cb9560dd5a",
   "metadata": {},
   "outputs": [],
   "source": [
    "import pandas as pd\n",
    "from sklearn.metrics import mean_absolute_error\n",
    "from sklearn.model_selection import train_test_split\n",
    "from sklearn.tree import DecisionTreeRegressor"
   ]
  },
  {
   "cell_type": "code",
   "execution_count": 3,
   "id": "6ffbd722-d05e-4ca4-9003-f03ed6ca1e94",
   "metadata": {},
   "outputs": [],
   "source": [
    "train_new_filepath= 'train_n.csv'\n",
    "train_new = pd.read_csv(train_new_filepath)\n",
    "train_new = train_new.drop('Unnamed: 0', 1)"
   ]
  },
  {
   "cell_type": "code",
   "execution_count": 18,
   "id": "4c7f1d83-7dca-41dd-b2a7-956e2e46719a",
   "metadata": {
    "tags": []
   },
   "outputs": [
    {
     "data": {
      "text/html": [
       "<div>\n",
       "<style scoped>\n",
       "    .dataframe tbody tr th:only-of-type {\n",
       "        vertical-align: middle;\n",
       "    }\n",
       "\n",
       "    .dataframe tbody tr th {\n",
       "        vertical-align: top;\n",
       "    }\n",
       "\n",
       "    .dataframe thead th {\n",
       "        text-align: right;\n",
       "    }\n",
       "</style>\n",
       "<table border=\"1\" class=\"dataframe\">\n",
       "  <thead>\n",
       "    <tr style=\"text-align: right;\">\n",
       "      <th></th>\n",
       "      <th>user_id</th>\n",
       "      <th>cart</th>\n",
       "      <th>target</th>\n",
       "    </tr>\n",
       "  </thead>\n",
       "  <tbody>\n",
       "    <tr>\n",
       "      <th>0</th>\n",
       "      <td>2</td>\n",
       "      <td>399</td>\n",
       "      <td>0</td>\n",
       "    </tr>\n",
       "    <tr>\n",
       "      <th>1</th>\n",
       "      <td>2</td>\n",
       "      <td>14</td>\n",
       "      <td>0</td>\n",
       "    </tr>\n",
       "    <tr>\n",
       "      <th>2</th>\n",
       "      <td>2</td>\n",
       "      <td>198</td>\n",
       "      <td>1</td>\n",
       "    </tr>\n",
       "    <tr>\n",
       "      <th>3</th>\n",
       "      <td>2</td>\n",
       "      <td>88</td>\n",
       "      <td>1</td>\n",
       "    </tr>\n",
       "    <tr>\n",
       "      <th>4</th>\n",
       "      <td>2</td>\n",
       "      <td>157</td>\n",
       "      <td>1</td>\n",
       "    </tr>\n",
       "    <tr>\n",
       "      <th>...</th>\n",
       "      <td>...</td>\n",
       "      <td>...</td>\n",
       "      <td>...</td>\n",
       "    </tr>\n",
       "    <tr>\n",
       "      <th>3123059</th>\n",
       "      <td>12702</td>\n",
       "      <td>441</td>\n",
       "      <td>1</td>\n",
       "    </tr>\n",
       "    <tr>\n",
       "      <th>3123060</th>\n",
       "      <td>12702</td>\n",
       "      <td>92</td>\n",
       "      <td>0</td>\n",
       "    </tr>\n",
       "    <tr>\n",
       "      <th>3123061</th>\n",
       "      <td>12702</td>\n",
       "      <td>431</td>\n",
       "      <td>1</td>\n",
       "    </tr>\n",
       "    <tr>\n",
       "      <th>3123062</th>\n",
       "      <td>12702</td>\n",
       "      <td>24</td>\n",
       "      <td>1</td>\n",
       "    </tr>\n",
       "    <tr>\n",
       "      <th>3123063</th>\n",
       "      <td>12702</td>\n",
       "      <td>430</td>\n",
       "      <td>0</td>\n",
       "    </tr>\n",
       "  </tbody>\n",
       "</table>\n",
       "<p>3123064 rows × 3 columns</p>\n",
       "</div>"
      ],
      "text/plain": [
       "         user_id  cart  target\n",
       "0              2   399       0\n",
       "1              2    14       0\n",
       "2              2   198       1\n",
       "3              2    88       1\n",
       "4              2   157       1\n",
       "...          ...   ...     ...\n",
       "3123059    12702   441       1\n",
       "3123060    12702    92       0\n",
       "3123061    12702   431       1\n",
       "3123062    12702    24       1\n",
       "3123063    12702   430       0\n",
       "\n",
       "[3123064 rows x 3 columns]"
      ]
     },
     "execution_count": 18,
     "metadata": {},
     "output_type": "execute_result"
    }
   ],
   "source": [
    "train_new"
   ]
  },
  {
   "cell_type": "code",
   "execution_count": 11,
   "id": "7f5c389a-475a-4700-af99-089796b13771",
   "metadata": {},
   "outputs": [],
   "source": [
    "y = train_new.cart"
   ]
  },
  {
   "cell_type": "code",
   "execution_count": 12,
   "id": "a5738141-ef83-4386-85a4-c31ae419ef73",
   "metadata": {},
   "outputs": [],
   "source": [
    "features = ['target', 'user_id']\n",
    "X = train_new[features].copy()\n",
    "X_test = train_new[features].copy()\n"
   ]
  },
  {
   "cell_type": "code",
   "execution_count": 13,
   "id": "894eca8c-b010-4005-b3df-7867a5f57852",
   "metadata": {},
   "outputs": [],
   "source": [
    "X_train, X_valid, y_train, y_valid = train_test_split(X, y, train_size=0.8, test_size=0.2, random_state=0)"
   ]
  },
  {
   "cell_type": "code",
   "execution_count": 9,
   "id": "8687b250-b2ec-42a3-9a2c-39d88a23d6c8",
   "metadata": {},
   "outputs": [
    {
     "data": {
      "text/plain": [
       "XGBRegressor(base_score=0.5, booster='gbtree', colsample_bylevel=1,\n",
       "             colsample_bynode=1, colsample_bytree=1, gamma=0, gpu_id=-1,\n",
       "             importance_type='gain', interaction_constraints='',\n",
       "             learning_rate=0.300000012, max_delta_step=0, max_depth=6,\n",
       "             min_child_weight=1, missing=nan, monotone_constraints='()',\n",
       "             n_estimators=100, n_jobs=8, num_parallel_tree=1, random_state=0,\n",
       "             reg_alpha=0, reg_lambda=1, scale_pos_weight=1, subsample=1,\n",
       "             tree_method='exact', validate_parameters=1, verbosity=None)"
      ]
     },
     "execution_count": 9,
     "metadata": {},
     "output_type": "execute_result"
    }
   ],
   "source": [
    "from xgboost import XGBRegressor\n",
    "my_model_1 = XGBRegressor(random_state = 0) \n",
    "\n",
    "\n",
    "my_model_1.fit(X_train, y_train) "
   ]
  },
  {
   "cell_type": "code",
   "execution_count": 10,
   "id": "ca56dff8-29e5-4c63-95be-4203aa8d5347",
   "metadata": {},
   "outputs": [
    {
     "name": "stdout",
     "output_type": "stream",
     "text": [
      "Mean Absolute error: 185.06822891178308\n"
     ]
    }
   ],
   "source": [
    "from sklearn.metrics import mean_absolute_error\n",
    "\n",
    "\n",
    "predictions_1 = my_model_1.predict(X_valid)\n",
    "print(\"Mean Absolute error: \" + str(mean_absolute_error(predictions_1, y_valid)))"
   ]
  },
  {
   "cell_type": "code",
   "execution_count": 11,
   "id": "b45ae8c3-ec13-4f12-bd71-487a32194bf9",
   "metadata": {},
   "outputs": [
    {
     "name": "stdout",
     "output_type": "stream",
     "text": [
      "Mean Absolute Error:  185.06822891178308\n"
     ]
    }
   ],
   "source": [
    "mae_1 = mean_absolute_error(predictions_1, y_valid)\n",
    "print(\"Mean Absolute Error: \", mae_1) "
   ]
  },
  {
   "cell_type": "code",
   "execution_count": 12,
   "id": "472be649-7e73-4c8d-895a-1c7f6a57ae7c",
   "metadata": {},
   "outputs": [],
   "source": [
    "from xgboost import XGBRegressor\n",
    "\n",
    "my_model_2 = XGBRegressor(n_estimators = 1000, learning_rate = 0.05, random_state = 0)\n",
    "my_model_2.fit(X_train, y_train)\n",
    "predictions_2 = my_model_2.predict(X_valid)\n",
    "\n",
    "mae_2 = mean_absolute_error(predictions_2, y_valid)"
   ]
  },
  {
   "cell_type": "code",
   "execution_count": 13,
   "id": "5cb17c8e-e22c-455f-b527-e002e828c09a",
   "metadata": {},
   "outputs": [
    {
     "name": "stdout",
     "output_type": "stream",
     "text": [
      "Mean Absolute Error: 184.96681378828032\n"
     ]
    }
   ],
   "source": [
    "print(\"Mean Absolute Error:\" , mae_2)"
   ]
  },
  {
   "cell_type": "code",
   "execution_count": null,
   "id": "7908f94d-9774-47b6-9916-4049375f4725",
   "metadata": {},
   "outputs": [],
   "source": [
    "train_model = DecisionTreeRegressor(random_state=1)\n",
    "train_model.fit(train_X, train_y)"
   ]
  },
  {
   "cell_type": "code",
   "execution_count": 22,
   "id": "e6f6eafd-c9cd-4545-8407-2f5f01d5806a",
   "metadata": {},
   "outputs": [],
   "source": [
    "val_predictions = train_model.predict(val_X)\n",
    "print(val_predictions)\n",
    "val_mae=mean_absolute_error(val_predictions, val_y)\n",
    "print(\"Validation MAE when not specifying ma_leaf_nodes: {:,.0f}\".format(val_mae))"
   ]
  },
  {
   "cell_type": "code",
   "execution_count": 23,
   "id": "8803e6da-7eab-4da5-aa94-72e908ccafca",
   "metadata": {},
   "outputs": [],
   "source": [
    "train_model = DecisionTreeRegressor(max_leaf_nodes = 100, random_state=1)\n",
    "train_model.fit(train_X, train_y)\n",
    "val_predictions = train_model.predict(val_X)\n",
    "print(val_predictions)\n",
    "val_mae = mean_absolute_error(val_predictions, val_y)\n",
    "print(\"Validation MAE for best value of max_leaf_nodes: {:,.0f}\".format(val_mae))"
   ]
  },
  {
   "cell_type": "code",
   "execution_count": 24,
   "id": "9e350b55-0b33-4390-9ed5-9f85cd5974c6",
   "metadata": {},
   "outputs": [],
   "source": [
    "print(\"Making predictions\")\n",
    "print(X.head())\n",
    "print(\"The predictions are\")\n",
    "print(train_model.predict(X.head()))"
   ]
  },
  {
   "cell_type": "code",
   "execution_count": 10,
   "id": "b7d81cda-56e9-40cb-844e-add8d756f9fc",
   "metadata": {},
   "outputs": [],
   "source": [
    "from sklearn.neighbors import KNeighborsRegressor"
   ]
  },
  {
   "cell_type": "code",
   "execution_count": 14,
   "id": "aee827bc-6b7d-4582-b29e-849b6f504335",
   "metadata": {},
   "outputs": [],
   "source": [
    "KNN_model = KNeighborsRegressor(n_neighbors=3).fit(X_train,y_train)"
   ]
  },
  {
   "cell_type": "code",
   "execution_count": 15,
   "id": "69e3d866-9fdd-4bac-8fb5-7233386b5fd0",
   "metadata": {},
   "outputs": [],
   "source": [
    "KNN_predict = KNN_model.predict(X_test)"
   ]
  },
  {
   "cell_type": "code",
   "execution_count": 16,
   "id": "ca8c5924-f78f-457d-af1c-1d785ee8a84b",
   "metadata": {},
   "outputs": [
    {
     "name": "stdout",
     "output_type": "stream",
     "text": [
      "[331.66666667 331.66666667 176.         ... 283.66666667 283.66666667\n",
      " 205.66666667]\n"
     ]
    }
   ],
   "source": [
    "print(KNN_predict)"
   ]
  },
  {
   "cell_type": "code",
   "execution_count": null,
   "id": "6d4a70dd-0e88-40f4-927b-e2d6d1651e7d",
   "metadata": {},
   "outputs": [],
   "source": []
  }
 ],
 "metadata": {
  "kernelspec": {
   "display_name": "Python 3 (ipykernel)",
   "language": "python",
   "name": "python3"
  },
  "language_info": {
   "codemirror_mode": {
    "name": "ipython",
    "version": 3
   },
   "file_extension": ".py",
   "mimetype": "text/x-python",
   "name": "python",
   "nbconvert_exporter": "python",
   "pygments_lexer": "ipython3",
   "version": "3.9.7"
  }
 },
 "nbformat": 4,
 "nbformat_minor": 5
}
